{
 "cells": [
  {
   "cell_type": "markdown",
   "metadata": {},
   "source": [
    "### Portfolio Analysis based on your Risk Aversion level and timeframe\n",
    "We have 3 levels of Risk Aversion, with level 3 being the most aggressive\n",
    "We have 3 timeframes for which we will do our Monte Carlo forecasts: 5, 10, and 20 years."
   ]
  },
  {
   "cell_type": "code",
   "execution_count": 11,
   "metadata": {},
   "outputs": [],
   "source": [
    "# Import the required libraries and dependencies\n",
    "#import questionary   #Tried to include this and didn't work\n",
    "import os\n",
    "import requests\n",
    "import json\n",
    "import pandas as pd\n",
    "from dotenv import load_dotenv\n",
    "import alpaca_trade_api as tradeapi\n",
    "from MCForecastTools import MCSimulation\n",
    "\n",
    "%matplotlib inline"
   ]
  },
  {
   "cell_type": "code",
   "execution_count": 12,
   "metadata": {},
   "outputs": [
    {
     "data": {
      "text/plain": [
       "True"
      ]
     },
     "execution_count": 12,
     "metadata": {},
     "output_type": "execute_result"
    }
   ],
   "source": [
    "# Load the environment variables from the .env file\n",
    "#by calling the load_dotenv function\n",
    "load_dotenv()"
   ]
  },
  {
   "cell_type": "code",
   "execution_count": 13,
   "metadata": {},
   "outputs": [
    {
     "name": "stdin",
     "output_type": "stream",
     "text": [
      "To begin, please enter the amount to be invested (USD). If you would like to quit, please enter 'Quit': \n",
      " quit\n"
     ]
    },
    {
     "name": "stdout",
     "output_type": "stream",
     "text": [
      "Please only enter numerical digits.\n"
     ]
    },
    {
     "name": "stdin",
     "output_type": "stream",
     "text": [
      "To begin, please enter the amount to be invested (USD). If you would like to quit, please enter 'Quit': \n",
      " Quit\n"
     ]
    },
    {
     "name": "stdout",
     "output_type": "stream",
     "text": [
      "You have quit the program. Have a nice day.\n"
     ]
    }
   ],
   "source": [
    "#User inputs \n",
    "while True:\n",
    "    try:\n",
    "        portfolio_value = input(\"To begin, please enter the amount to be invested (USD). If you would like to quit, please enter 'Quit': \\n\")\n",
    "    \n",
    "        if portfolio_value == 'Quit':\n",
    "            print('You have quit the program. Have a nice day.')\n",
    "            \n",
    "            break\n",
    "        \n",
    "        portfolio_value = float(portfolio_value)\n",
    "        \n",
    "        if portfolio_value < 1000000:\n",
    "            print(\"Unfortunately, you do not have enough savings to invest in a portfolio. \\nThe minimum required is $1,000,000.\")\n",
    "    \n",
    "        break\n",
    "    except ValueError:\n",
    "        print(\"Please only enter numerical digits.\")\n",
    "\n",
    "    \n",
    "\n"
   ]
  },
  {
   "cell_type": "code",
   "execution_count": 4,
   "metadata": {},
   "outputs": [],
   "source": [
    "#portfolio_value = 1000000 #we assume client gives us 1mm to start with."
   ]
  },
  {
   "cell_type": "code",
   "execution_count": 24,
   "metadata": {},
   "outputs": [
    {
     "name": "stdin",
     "output_type": "stream",
     "text": [
      "Please select your risk tolerance level from 1-3, 3 being the most aggressive:  6\n"
     ]
    },
    {
     "name": "stdout",
     "output_type": "stream",
     "text": [
      "I'm sorry, you need to enter 1, 2, or 3 for the application to work.\n",
      "The stocks in your portfolio will be ['FB', 'AAPL', 'TSLA', 'RDS.A', 'GS']\n"
     ]
    }
   ],
   "source": [
    "#Get user input for risk tolerance. User must input 1, 2, or 3. If risk_tolerance is not one of these, we prompt user\n",
    "#to try again.\n",
    "risk_tolerance = input(\"Please select your risk tolerance level from 1-3, 3 being the most aggressive: \")\n",
    "#print(risk_tolerance)\n",
    "#type if statment here\n",
    "if int(risk_tolerance) == 1:\n",
    "    print(\"Thank you for your response!  You are a conversative investor.\")\n",
    "    tickers = [\"JPM\",\"VTEB\",\"PZA\",\"BNDX\",\"GOOGL\"]\n",
    "    #JP Morgan, Vanguard Tax-Exempt Bond Index Fund ETF, Invesco National AMT-Free Municipal Bond ETF, Vanguard Total International Bond Index Fund\n",
    "    #Google\n",
    "elif int(risk_tolerance) == 2:\n",
    "    print(\"Thank you for your response!  You are an aggressive investor.\")\n",
    "    tickers = [\"FB\",\"AAPL\",\"TSLA\",\"RDS.A\",\"GS\"]\n",
    "    #Facebook, Apple, Tesla, Shell Oil, Goldman Sachs\n",
    "elif int(risk_tolerance) == 3:\n",
    "    print(\"Thank you for your response!  You are a very aggressive investor.\")\n",
    "    tickers = [\"NFLX\",\"ADBE\",\"AMZN\",\"PYPL\",\"GME\"]\n",
    "    #Netflix, Adobe, Amazon, Paypal, GameStop\n",
    "\n",
    "else:\n",
    "    print(\"I'm sorry, you need to enter 1, 2, or 3 for the application to work.\")\n",
    "#chaim edit- changed the print function to simplify output\n",
    "risk_tolerance = int(risk_tolerance) #force it to be a number since the result of input() is a string\n",
    "print(f\"The stocks in your portfolio will be {tickers}\")\n",
    "\n",
    "\n",
    "    "
   ]
  },
  {
   "cell_type": "code",
   "execution_count": 23,
   "metadata": {},
   "outputs": [
    {
     "name": "stdin",
     "output_type": "stream",
     "text": [
      "Please select your time horizon for the forecast: 5, 10, or 20 years? 7\n"
     ]
    },
    {
     "name": "stdout",
     "output_type": "stream",
     "text": [
      "Please select a time horizon that is only 5,10, or 15 years.\n"
     ]
    }
   ],
   "source": [
    "time_horizon = input(\"Please select your time horizon for the forecast: 5, 10, or 20 years?\")\n",
    "if int(time_horizon) == 5:\n",
    "    print(f\"Thank you for your input! Your holding period will be {time_horizon} years\")\n",
    "elif int(time_horizon) == 10:\n",
    "        print(f\"Thank you for your input! Your holding period will be {time_horizon} years\")\n",
    "elif int(time_horizon) == 15:\n",
    "        print(f\"Thank you for your input! Your holding period will be {time_horizon} years\")\n",
    "\n",
    "else:\n",
    "    print(f\"Please select a time horizon that is only 5,10, or 15 years.\")\n",
    "time_horizon = int(time_horizon) #forcing it to be an int\n",
    "#chaim edit- changed print function to simplify output\n",
    "#type if statement here if time_horizon is not 5, 10, or 20 we prompt the user to try again"
   ]
  },
  {
   "cell_type": "code",
   "execution_count": 7,
   "metadata": {},
   "outputs": [
    {
     "data": {
      "text/plain": [
       "NoneType"
      ]
     },
     "metadata": {},
     "output_type": "display_data"
    },
    {
     "data": {
      "text/plain": [
       "NoneType"
      ]
     },
     "metadata": {},
     "output_type": "display_data"
    },
    {
     "ename": "ValueError",
     "evalue": "('Key ID must be given to access Alpaca trade API', ' (env: APCA_API_KEY_ID)')",
     "output_type": "error",
     "traceback": [
      "\u001b[1;31m---------------------------------------------------------------------------\u001b[0m",
      "\u001b[1;31mValueError\u001b[0m                                Traceback (most recent call last)",
      "\u001b[1;32m<ipython-input-7-083df2a2513f>\u001b[0m in \u001b[0;36m<module>\u001b[1;34m\u001b[0m\n\u001b[0;32m      8\u001b[0m \u001b[1;33m\u001b[0m\u001b[0m\n\u001b[0;32m      9\u001b[0m \u001b[1;31m# Create the Alpaca tradeapi.REST object\u001b[0m\u001b[1;33m\u001b[0m\u001b[1;33m\u001b[0m\u001b[1;33m\u001b[0m\u001b[0m\n\u001b[1;32m---> 10\u001b[1;33m \u001b[0malpaca\u001b[0m \u001b[1;33m=\u001b[0m \u001b[0mtradeapi\u001b[0m\u001b[1;33m.\u001b[0m\u001b[0mREST\u001b[0m\u001b[1;33m(\u001b[0m\u001b[0malpaca_api_key\u001b[0m\u001b[1;33m,\u001b[0m \u001b[0malpaca_secret_key\u001b[0m\u001b[1;33m,\u001b[0m \u001b[0mapi_version\u001b[0m\u001b[1;33m=\u001b[0m\u001b[1;34m\"v2\"\u001b[0m\u001b[1;33m)\u001b[0m\u001b[1;33m\u001b[0m\u001b[1;33m\u001b[0m\u001b[0m\n\u001b[0m",
      "\u001b[1;32m~\\Anaconda3\\envs\\dev\\lib\\site-packages\\alpaca_trade_api\\rest.py\u001b[0m in \u001b[0;36m__init__\u001b[1;34m(self, key_id, secret_key, base_url, api_version, oauth, raw_data)\u001b[0m\n\u001b[0;32m     90\u001b[0m         \"\"\"\n\u001b[0;32m     91\u001b[0m         self._key_id, self._secret_key, self._oauth = get_credentials(\n\u001b[1;32m---> 92\u001b[1;33m             key_id, secret_key, oauth)\n\u001b[0m\u001b[0;32m     93\u001b[0m         \u001b[0mself\u001b[0m\u001b[1;33m.\u001b[0m\u001b[0m_base_url\u001b[0m\u001b[1;33m:\u001b[0m \u001b[0mURL\u001b[0m \u001b[1;33m=\u001b[0m \u001b[0mURL\u001b[0m\u001b[1;33m(\u001b[0m\u001b[0mbase_url\u001b[0m \u001b[1;32mor\u001b[0m \u001b[0mget_base_url\u001b[0m\u001b[1;33m(\u001b[0m\u001b[1;33m)\u001b[0m\u001b[1;33m)\u001b[0m\u001b[1;33m\u001b[0m\u001b[1;33m\u001b[0m\u001b[0m\n\u001b[0;32m     94\u001b[0m         \u001b[0mself\u001b[0m\u001b[1;33m.\u001b[0m\u001b[0m_api_version\u001b[0m \u001b[1;33m=\u001b[0m \u001b[0mget_api_version\u001b[0m\u001b[1;33m(\u001b[0m\u001b[0mapi_version\u001b[0m\u001b[1;33m)\u001b[0m\u001b[1;33m\u001b[0m\u001b[1;33m\u001b[0m\u001b[0m\n",
      "\u001b[1;32m~\\Anaconda3\\envs\\dev\\lib\\site-packages\\alpaca_trade_api\\common.py\u001b[0m in \u001b[0;36mget_credentials\u001b[1;34m(key_id, secret_key, oauth)\u001b[0m\n\u001b[0;32m     83\u001b[0m     \u001b[1;32mif\u001b[0m \u001b[0mkey_id\u001b[0m \u001b[1;32mis\u001b[0m \u001b[1;32mNone\u001b[0m \u001b[1;32mand\u001b[0m \u001b[0moauth\u001b[0m \u001b[1;32mis\u001b[0m \u001b[1;32mNone\u001b[0m\u001b[1;33m:\u001b[0m\u001b[1;33m\u001b[0m\u001b[1;33m\u001b[0m\u001b[0m\n\u001b[0;32m     84\u001b[0m         raise ValueError('Key ID must be given to access Alpaca trade API',\n\u001b[1;32m---> 85\u001b[1;33m                          ' (env: APCA_API_KEY_ID)')\n\u001b[0m\u001b[0;32m     86\u001b[0m \u001b[1;33m\u001b[0m\u001b[0m\n\u001b[0;32m     87\u001b[0m     \u001b[0msecret_key\u001b[0m \u001b[1;33m=\u001b[0m \u001b[0msecret_key\u001b[0m \u001b[1;32mor\u001b[0m \u001b[0mos\u001b[0m\u001b[1;33m.\u001b[0m\u001b[0menviron\u001b[0m\u001b[1;33m.\u001b[0m\u001b[0mget\u001b[0m\u001b[1;33m(\u001b[0m\u001b[1;34m'APCA_API_SECRET_KEY'\u001b[0m\u001b[1;33m)\u001b[0m\u001b[1;33m\u001b[0m\u001b[1;33m\u001b[0m\u001b[0m\n",
      "\u001b[1;31mValueError\u001b[0m: ('Key ID must be given to access Alpaca trade API', ' (env: APCA_API_KEY_ID)')"
     ]
    }
   ],
   "source": [
    "# Set the variables for the Alpaca API and secret keys. Will be making calls for historical prices.\n",
    "alpaca_api_key = os.getenv(\"ALPACA_API_KEY\")\n",
    "alpaca_secret_key = os.getenv(\"ALPACA_SECRET_KEY\")\n",
    "\n",
    "# Check the values were imported correctly by evaluating the type of each\n",
    "display(type(alpaca_api_key))\n",
    "display(type(alpaca_secret_key))\n",
    "\n",
    "# Create the Alpaca tradeapi.REST object\n",
    "alpaca = tradeapi.REST(alpaca_api_key, alpaca_secret_key, api_version=\"v2\")\n"
   ]
  },
  {
   "cell_type": "code",
   "execution_count": null,
   "metadata": {},
   "outputs": [],
   "source": [
    "# Set the tickers for both the bond and stock portion of the portfolio\n",
    "\n",
    "#This setting of tickers will also need to be made a bit more dynamic again dep on what client selects\n",
    "#We know this would be risk tolerance level 2 based on Nev's list.\n",
    "#tickers = [\"FB\",\"AAPL\",\"TSLA\",\"RDS.A\",\"GS\"] Paul Lopez moved this up on 2021-10-29 to the top depending on if client enters 1, 2, or 3 for risk tolerance\n",
    "\n",
    "# Set timeframe to 1D \n",
    "timeframe = \"1D\"\n",
    "\n",
    "# Format current date as ISO format\n",
    "# Set both the start and end date at the date of your prior weekday \n",
    "# This will give you the closing price of the previous trading day\n",
    "# Alternatively you can use a start and end date of 2020-08-07\n",
    "start_date = pd.Timestamp(\"2021-10-27\", tz=\"America/New_York\").isoformat()\n",
    "end_date = pd.Timestamp(\"2021-10-27\", tz=\"America/New_York\").isoformat()\n",
    "limit_rows = 1000\n",
    "#We can possibly make this start and end date a bit more dynamic by just pulling today's or yesterday's\n",
    "#date and feeding in here as a variable."
   ]
  },
  {
   "cell_type": "code",
   "execution_count": null,
   "metadata": {},
   "outputs": [],
   "source": [
    "# We use the Alpaca get_barset function to get current closing prices for our portfolio of 5 tickers\n",
    "prices_df = alpaca.get_barset(tickers, timeframe, start=start_date, end=end_date, limit=limit_rows).df\n",
    "\n",
    "# checking dataframe to make sure everything looks ok for our closes\n",
    "prices_df.head()\n"
   ]
  },
  {
   "cell_type": "code",
   "execution_count": null,
   "metadata": {},
   "outputs": [],
   "source": [
    "# Access the closing prices for our 5 tickers from the Alpaca DataFrame\n",
    "# We also convert the value to a floating point number\n",
    "#Again will need to be made dynamic depending on if level 1 2 or 3 risk tolerance level is selected\n",
    "stock1_close_price = float(prices_df[tickers[0]][\"close\"])\n",
    "stock2_close_price = float(prices_df[tickers[1]][\"close\"])\n",
    "stock3_close_price = float(prices_df[tickers[2]][\"close\"])\n",
    "stock4_close_price = float(prices_df[tickers[3]][\"close\"])\n",
    "stock5_close_price = float(prices_df[tickers[4]][\"close\"])\n",
    "\n",
    "display(stock1_close_price)\n",
    "display(stock2_close_price)\n",
    "display(stock3_close_price)\n",
    "display(stock4_close_price)\n",
    "display(stock5_close_price)\n",
    "\n",
    "#fb_close_price = float(prices_df[\"FB\"][\"close\"])\n",
    "#aapl_close_price = float(prices_df[\"AAPL\"][\"close\"])\n",
    "#tsla_close_price = float(prices_df[\"TSLA\"][\"close\"])\n",
    "#rdsa_close_price = float(prices_df[\"RDS.A\"][\"close\"])\n",
    "#gs_close_price = float(prices_df[\"GS\"][\"close\"])\n",
    "\n",
    "# Print the AGG closing price\n",
    "#display(fb_close_price)\n",
    "#display(aapl_close_price)\n",
    "#display(tsla_close_price)\n",
    "#display(rdsa_close_price)\n",
    "#display(gs_close_price)\n"
   ]
  },
  {
   "cell_type": "code",
   "execution_count": null,
   "metadata": {},
   "outputs": [],
   "source": [
    "# Calculate the current value of the bond portion of the portfolio\n",
    "#Again will need to be made dynamic depending on if level 1 2 or 3 risk tolerance level is selected\n",
    "value_per_share = 200000 #we assume 1 million dollar investment, and 200k per share.\n",
    "stock1_shares = value_per_share / stock1_close_price\n",
    "stock2_shares = value_per_share / stock2_close_price\n",
    "stock3_shares = value_per_share / stock3_close_price\n",
    "stock4_shares = value_per_share / stock4_close_price\n",
    "stock5_shares = value_per_share / stock5_close_price\n",
    "\n",
    "# Print how many shares we get of each stock assuming 200k is available for each one.\n",
    "print(f\"With $200,000 you will be able to purchase {stock1_shares:.0f} shares of {tickers[0]}.\")\n",
    "print(f\"With $200,000 you will be able to purchase {stock2_shares:.0f} shares of {tickers[1]}.\")\n",
    "print(f\"With $200,000 you will be able to purchase {stock3_shares:.0f} shares of {tickers[2]}.\")\n",
    "print(f\"With $200,000 you will be able to purchase {stock4_shares:.0f} shares of {tickers[3]}.\")\n",
    "print(f\"With $200,000 you will be able to purchase {stock5_shares:.0f} shares of {tickers[4]}.\")\n"
   ]
  },
  {
   "cell_type": "code",
   "execution_count": null,
   "metadata": {},
   "outputs": [],
   "source": [
    "# Set start and end dates of 10 years back from your current date\n",
    "#We'll always assume 10 years back. Again we can make this dynamic if we want\n",
    "#and start with yesterday's date and then go back 10 years.\n",
    "start_date = pd.Timestamp(\"2011-10-28\", tz=\"America/New_York\").isoformat()\n",
    "end_date = pd.Timestamp(\"2021-10-28\", tz=\"America/New_York\").isoformat()\n",
    "\n",
    "limit_rows = 1000"
   ]
  },
  {
   "cell_type": "code",
   "execution_count": null,
   "metadata": {},
   "outputs": [],
   "source": [
    "# Use the Alpaca get_barset function to make the API call to get the 3 years worth of pricing data\n",
    "# The tickers and timeframe parameters should have been set in Part 1 of this activity \n",
    "# The start and end dates should be updated with the information set above\n",
    "# Remember to add the df property to the end of the call so the response is returned as a DataFrame\n",
    "prices_df = alpaca.get_barset(\n",
    "    tickers,\n",
    "    timeframe,\n",
    "    start=start_date,\n",
    "    end=end_date,\n",
    "    limit=limit_rows\n",
    ").df\n",
    "\n",
    "# Display both the first and last five rows of the DataFrame\n",
    "display(prices_df.head(2))\n",
    "display(prices_df.tail(2))\n",
    "tickers"
   ]
  },
  {
   "cell_type": "code",
   "execution_count": null,
   "metadata": {},
   "outputs": [],
   "source": [
    "###Here we run a Monte Carlo simulation of 1000 samples and the time frame could be 5, 10, or 20 years depending on the user's response. We always will assume equal 20% weight for each stock in the portfolio."
   ]
  },
  {
   "cell_type": "code",
   "execution_count": null,
   "metadata": {},
   "outputs": [],
   "source": [
    "# Configure the Monte Carlo simulation to forecast cumulative returns based on the client's input\n",
    "# The weights we will assume will be split evenly 20 percent for each ticker.\n",
    "# We will be running 1000 samples.\n",
    "#This part will only change based on if client selects 5 10 or 20 years to do the forecast.\n",
    "MC_even_weight = MCSimulation(\n",
    "    portfolio_data = prices_df,\n",
    "    weights = [0.2,0.2,0.2,0.2,0.2],\n",
    "    num_simulation = 1000,\n",
    "    num_trading_days = 252*time_horizon  #This variable is 5, 10, or 20 depending on client's input above\n",
    ")\n",
    "\n",
    "# Review the simulation input data\n",
    "MC_even_weight.portfolio_data.head()\n"
   ]
  },
  {
   "cell_type": "code",
   "execution_count": null,
   "metadata": {},
   "outputs": [],
   "source": [
    "# Run the Monte Carlo simulation to forecast client specified number of years of cumulative returns\n",
    "MC_even_weight.calc_cumulative_return()\n",
    "\n",
    "#Tweaked monte carlo py file to spit out a message every 200 simulations."
   ]
  },
  {
   "cell_type": "code",
   "execution_count": 10,
   "metadata": {},
   "outputs": [
    {
     "ename": "NameError",
     "evalue": "name 'MC_even_weight' is not defined",
     "output_type": "error",
     "traceback": [
      "\u001b[1;31m---------------------------------------------------------------------------\u001b[0m",
      "\u001b[1;31mNameError\u001b[0m                                 Traceback (most recent call last)",
      "\u001b[1;32m<ipython-input-10-4c2b95c443d8>\u001b[0m in \u001b[0;36m<module>\u001b[1;34m\u001b[0m\n\u001b[0;32m      1\u001b[0m \u001b[1;31m# Visualize the Monte Carlo simulation by creating an overlay line plot\u001b[0m\u001b[1;33m\u001b[0m\u001b[1;33m\u001b[0m\u001b[1;33m\u001b[0m\u001b[0m\n\u001b[1;32m----> 2\u001b[1;33m \u001b[0mMC_even_weight_line_plot\u001b[0m \u001b[1;33m=\u001b[0m \u001b[0mMC_even_weight\u001b[0m\u001b[1;33m.\u001b[0m\u001b[0mplot_simulation\u001b[0m\u001b[1;33m(\u001b[0m\u001b[1;33m)\u001b[0m\u001b[1;33m\u001b[0m\u001b[1;33m\u001b[0m\u001b[0m\n\u001b[0m",
      "\u001b[1;31mNameError\u001b[0m: name 'MC_even_weight' is not defined"
     ]
    }
   ],
   "source": [
    "# Visualize the Monte Carlo simulation by creating an overlay line plot\n",
    "MC_even_weight_line_plot = MC_even_weight.plot_simulation()\n"
   ]
  },
  {
   "cell_type": "code",
   "execution_count": null,
   "metadata": {},
   "outputs": [],
   "source": [
    "# Here we visualize the probability distribution of the Monte Carlo simulation \n",
    "# based on the user's timeframe by plotting a histogram\n",
    "MC_even_weight_distibution_plot = MC_even_weight.plot_distribution()\n"
   ]
  },
  {
   "cell_type": "markdown",
   "metadata": {},
   "source": [
    "#### Step 4: Generate the summary statistics for the Monte Carlo simulation."
   ]
  },
  {
   "cell_type": "code",
   "execution_count": 9,
   "metadata": {},
   "outputs": [
    {
     "ename": "NameError",
     "evalue": "name 'MC_even_weight' is not defined",
     "output_type": "error",
     "traceback": [
      "\u001b[1;31m---------------------------------------------------------------------------\u001b[0m",
      "\u001b[1;31mNameError\u001b[0m                                 Traceback (most recent call last)",
      "\u001b[1;32m<ipython-input-9-f90f58da374c>\u001b[0m in \u001b[0;36m<module>\u001b[1;34m\u001b[0m\n\u001b[0;32m      1\u001b[0m \u001b[1;31m# Generate summary statistics from the Monte Carlo simulation results\u001b[0m\u001b[1;33m\u001b[0m\u001b[1;33m\u001b[0m\u001b[1;33m\u001b[0m\u001b[0m\n\u001b[0;32m      2\u001b[0m \u001b[1;31m# We save the results as a variable\u001b[0m\u001b[1;33m\u001b[0m\u001b[1;33m\u001b[0m\u001b[1;33m\u001b[0m\u001b[0m\n\u001b[1;32m----> 3\u001b[1;33m \u001b[0mMC_even_weight_summary_table\u001b[0m \u001b[1;33m=\u001b[0m \u001b[0mMC_even_weight\u001b[0m\u001b[1;33m.\u001b[0m\u001b[0msummarize_cumulative_return\u001b[0m\u001b[1;33m(\u001b[0m\u001b[1;33m)\u001b[0m\u001b[1;33m\u001b[0m\u001b[1;33m\u001b[0m\u001b[0m\n\u001b[0m\u001b[0;32m      4\u001b[0m \u001b[1;33m\u001b[0m\u001b[0m\n\u001b[0;32m      5\u001b[0m \u001b[1;33m\u001b[0m\u001b[0m\n",
      "\u001b[1;31mNameError\u001b[0m: name 'MC_even_weight' is not defined"
     ]
    }
   ],
   "source": [
    "# Generate summary statistics from the Monte Carlo simulation results\n",
    "# We save the results as a variable\n",
    "MC_even_weight_summary_table = MC_even_weight.summarize_cumulative_return()\n",
    "\n",
    "\n",
    "# Review the Client's Monte Carlo summary statistics\n",
    "print(MC_even_weight_summary_table)"
   ]
  },
  {
   "cell_type": "code",
   "execution_count": 8,
   "metadata": {},
   "outputs": [
    {
     "ename": "NameError",
     "evalue": "name 'MC_even_weight_summary_table' is not defined",
     "output_type": "error",
     "traceback": [
      "\u001b[1;31m---------------------------------------------------------------------------\u001b[0m",
      "\u001b[1;31mNameError\u001b[0m                                 Traceback (most recent call last)",
      "\u001b[1;32m<ipython-input-8-8597ddb65fce>\u001b[0m in \u001b[0;36m<module>\u001b[1;34m\u001b[0m\n\u001b[0;32m      1\u001b[0m \u001b[1;31m# We now use the lower and upper `95%` confidence intervals to calculate the range of the possible outcomes\u001b[0m\u001b[1;33m\u001b[0m\u001b[1;33m\u001b[0m\u001b[1;33m\u001b[0m\u001b[0m\n\u001b[0;32m      2\u001b[0m \u001b[1;31m#for the current client portfolio\u001b[0m\u001b[1;33m\u001b[0m\u001b[1;33m\u001b[0m\u001b[1;33m\u001b[0m\u001b[0m\n\u001b[1;32m----> 3\u001b[1;33m \u001b[0mci_lower_thirty_cumulative_return\u001b[0m \u001b[1;33m=\u001b[0m \u001b[0mround\u001b[0m\u001b[1;33m(\u001b[0m\u001b[0mMC_even_weight_summary_table\u001b[0m\u001b[1;33m[\u001b[0m\u001b[1;36m8\u001b[0m\u001b[1;33m]\u001b[0m\u001b[1;33m*\u001b[0m\u001b[0mportfolio_value\u001b[0m\u001b[1;33m,\u001b[0m\u001b[1;36m2\u001b[0m\u001b[1;33m)\u001b[0m\u001b[1;33m\u001b[0m\u001b[1;33m\u001b[0m\u001b[0m\n\u001b[0m\u001b[0;32m      4\u001b[0m \u001b[0mci_upper_thirty_cumulative_return\u001b[0m \u001b[1;33m=\u001b[0m \u001b[0mround\u001b[0m\u001b[1;33m(\u001b[0m\u001b[0mMC_even_weight_summary_table\u001b[0m\u001b[1;33m[\u001b[0m\u001b[1;36m9\u001b[0m\u001b[1;33m]\u001b[0m\u001b[1;33m*\u001b[0m\u001b[0mportfolio_value\u001b[0m\u001b[1;33m,\u001b[0m\u001b[1;36m2\u001b[0m\u001b[1;33m)\u001b[0m\u001b[1;33m\u001b[0m\u001b[1;33m\u001b[0m\u001b[0m\n\u001b[0;32m      5\u001b[0m \u001b[1;33m\u001b[0m\u001b[0m\n",
      "\u001b[1;31mNameError\u001b[0m: name 'MC_even_weight_summary_table' is not defined"
     ]
    }
   ],
   "source": [
    "# We now use the lower and upper `95%` confidence intervals to calculate the range of the possible outcomes \n",
    "#for the current client portfolio\n",
    "ci_lower_thirty_cumulative_return = round(MC_even_weight_summary_table[8]*portfolio_value,2)\n",
    "ci_upper_thirty_cumulative_return = round(MC_even_weight_summary_table[9]*portfolio_value,2)\n",
    "\n",
    "# Print the result of your calculations\n",
    "print(f\"There is a 95% chance that the current value of ${portfolio_value:.2f} in the portfolio with an \"\n",
    "      f\"even 20% weight in each stock over the next {time_horizon} years will end within the range of\"\n",
    "      f\" ${ci_lower_thirty_cumulative_return} and ${ci_upper_thirty_cumulative_return}.\")\n"
   ]
  },
  {
   "cell_type": "code",
   "execution_count": null,
   "metadata": {},
   "outputs": [],
   "source": []
  }
 ],
 "metadata": {
  "kernelspec": {
   "display_name": "Python (dev)",
   "language": "python",
   "name": "dev"
  },
  "language_info": {
   "codemirror_mode": {
    "name": "ipython",
    "version": 3
   },
   "file_extension": ".py",
   "mimetype": "text/x-python",
   "name": "python",
   "nbconvert_exporter": "python",
   "pygments_lexer": "ipython3",
   "version": "3.7.10"
  }
 },
 "nbformat": 4,
 "nbformat_minor": 4
}
