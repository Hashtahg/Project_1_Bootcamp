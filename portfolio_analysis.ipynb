{
 "cells": [
  {
   "cell_type": "markdown",
   "metadata": {},
   "source": [
    "### Portfolio Analysis based on your Risk Aversion level and timeframe\n",
    "We have 3 levels of Risk Aversion, with level 3 being the most aggressive\n",
    "We have 3 timeframes for which we will do our Monte Carlo forecasts: 5, 10, and 20 years."
   ]
  },
  {
   "cell_type": "code",
   "execution_count": 12,
   "metadata": {},
   "outputs": [],
   "source": [
    "# Import the required libraries and dependencies\n",
    "#import questionary   #Tried to include this and didn't work\n",
    "import os\n",
    "import requests\n",
    "import json\n",
    "import pandas as pd\n",
    "from dotenv import load_dotenv\n",
    "import alpaca_trade_api as tradeapi\n",
    "from MCForecastTools import MCSimulation\n",
    "\n",
    "%matplotlib inline"
   ]
  },
  {
   "cell_type": "code",
   "execution_count": 13,
   "metadata": {},
   "outputs": [
    {
     "data": {
      "text/plain": [
       "True"
      ]
     },
     "execution_count": 13,
     "metadata": {},
     "output_type": "execute_result"
    }
   ],
   "source": [
    "# Load the environment variables from the .env file\n",
    "#by calling the load_dotenv function\n",
    "load_dotenv()"
   ]
  },
  {
   "cell_type": "code",
   "execution_count": null,
   "metadata": {},
   "outputs": [],
   "source": []
  },
  {
   "cell_type": "code",
   "execution_count": 15,
   "metadata": {},
   "outputs": [
    {
     "name": "stdin",
     "output_type": "stream",
     "text": [
      "Please select your risk tolerance level from 1-3, 3 being the most aggressive hello\n",
      "Please select your risk tolerance level from 1-3, 3 being the most aggressive. You must enter 1, 2, or 3. 2\n"
     ]
    },
    {
     "name": "stdout",
     "output_type": "stream",
     "text": [
      "2\n"
     ]
    }
   ],
   "source": [
    "#Get user input for risk tolerance. User must input 1, 2, or 3. If risk_tolerance is not one of these, we prompt user\n",
    "#to try again.\n",
    "risk_tolerance = input(\"Please select your risk tolerance level from 1-3, 3 being the most aggressive\")\n",
    "#print(risk_tolerance)\n",
    "#type if statment here\n",
    "if risk_tolerance != 3 and risk_tolerance != 2 and risk_tolerance != 1:\n",
    "    risk_tolerance = input(\"Please select your risk tolerance level from 1-3, 3 being the most aggressive. You must enter 1, 2, or 3.\")\n",
    "    #print(risk_tolerance)\n",
    "else:\n",
    "    print(\"Thank you for your response. Now for the last question.\")\n",
    "\n",
    "print(risk_tolerance)\n",
    "\n",
    "    "
   ]
  },
  {
   "cell_type": "code",
   "execution_count": 16,
   "metadata": {},
   "outputs": [
    {
     "name": "stdin",
     "output_type": "stream",
     "text": [
      "Please select your time horizon for the forecast: 5, 10, or 20 years? 5\n"
     ]
    },
    {
     "name": "stdout",
     "output_type": "stream",
     "text": [
      "5\n"
     ]
    }
   ],
   "source": [
    "time_horizon = input(\"Please select your time horizon for the forecast: 5, 10, or 20 years?\")\n",
    "print(time_horizon)\n",
    "\n",
    "#type if statement here if time_horizon is not 5, 10, or 20 we prompt the user to try again"
   ]
  },
  {
   "cell_type": "code",
   "execution_count": null,
   "metadata": {},
   "outputs": [],
   "source": [
    "# We'll assume 100 shares in each stock of interest\n",
    "\n",
    "#Briggs let's make this part of what stocks to use dynamic depending on if client selects \n",
    "#level 1 2 3 risk tolerance.  Since this is Nev's set we'll assume this is Level 2 for now.\n",
    "fb_shares = 100  #FB\n",
    "aapl_shares = 100 #AAPL\n",
    "tsla_shares = 100 #TSLA\n",
    "rdsa_shares = 100 #RDS.A  shell oil\n",
    "gs_shares = 100 #GS\n"
   ]
  },
  {
   "cell_type": "code",
   "execution_count": null,
   "metadata": {},
   "outputs": [],
   "source": [
    "# Set the variables for the Alpaca API and secret keys. Will be making calls for historical prices.\n",
    "alpaca_api_key = os.getenv(\"ALPACA_API_KEY\")\n",
    "alpaca_secret_key = os.getenv(\"ALPACA_SECRET_KEY\")\n",
    "\n",
    "# Check the values were imported correctly by evaluating the type of each\n",
    "display(type(alpaca_api_key))\n",
    "display(type(alpaca_secret_key))\n",
    "\n",
    "# Create the Alpaca tradeapi.REST object\n",
    "alpaca = tradeapi.REST(alpaca_api_key, alpaca_secret_key, api_version=\"v2\")\n"
   ]
  },
  {
   "cell_type": "code",
   "execution_count": null,
   "metadata": {},
   "outputs": [],
   "source": [
    "# Set the tickers for both the bond and stock portion of the portfolio\n",
    "\n",
    "#This setting of tickers will also need to be made a bit more dynamic again dep on what client selects\n",
    "#We know this would be risk tolerance level 2 based on Nev's list.\n",
    "tickers = [\"FB\",\"AAPL\",\"TSLA\",\"RDS.A\",\"GS\"]\n",
    "\n",
    "# Set timeframe to 1D \n",
    "timeframe = \"1D\"\n",
    "\n",
    "# Format current date as ISO format\n",
    "# Set both the start and end date at the date of your prior weekday \n",
    "# This will give you the closing price of the previous trading day\n",
    "# Alternatively you can use a start and end date of 2020-08-07\n",
    "start_date = pd.Timestamp(\"2021-10-27\", tz=\"America/New_York\").isoformat()\n",
    "end_date = pd.Timestamp(\"2021-10-27\", tz=\"America/New_York\").isoformat()\n",
    "limit_rows = 1000\n",
    "#We can possibly make this start and end date a bit more dynamic by just pulling today's or yesterday's\n",
    "#date and feeding in here as a variable."
   ]
  },
  {
   "cell_type": "code",
   "execution_count": null,
   "metadata": {},
   "outputs": [],
   "source": [
    "# We use the Alpaca get_barset function to get current closing prices for our portfolio of 5 tickers\n",
    "prices_df = alpaca.get_barset(tickers, timeframe, start=start_date, end=end_date, limit=limit_rows).df\n",
    "\n",
    "# checking dataframe to make sure everything looks ok for our closes\n",
    "prices_df.head()\n"
   ]
  },
  {
   "cell_type": "code",
   "execution_count": null,
   "metadata": {},
   "outputs": [],
   "source": [
    "# Access the closing prices for our 5 tickers from the Alpaca DataFrame\n",
    "# We also convert the value to a floating point number\n",
    "#Again will need to be made dynamic depending on if level 1 2 or 3 risk tolerance level is selected\n",
    "fb_close_price = float(prices_df[\"FB\"][\"close\"])\n",
    "aapl_close_price = float(prices_df[\"AAPL\"][\"close\"])\n",
    "tsla_close_price = float(prices_df[\"TSLA\"][\"close\"])\n",
    "rdsa_close_price = float(prices_df[\"RDS.A\"][\"close\"])\n",
    "gs_close_price = float(prices_df[\"GS\"][\"close\"])\n",
    "\n",
    "# Print the AGG closing price\n",
    "display(fb_close_price)\n",
    "display(aapl_close_price)\n",
    "display(tsla_close_price)\n",
    "display(rdsa_close_price)\n",
    "display(gs_close_price)\n"
   ]
  },
  {
   "cell_type": "code",
   "execution_count": null,
   "metadata": {},
   "outputs": [],
   "source": [
    "# Calculate the current value of the bond portion of the portfolio\n",
    "#Again will need to be made dynamic depending on if level 1 2 or 3 risk tolerance level is selected\n",
    "fb_value = fb_shares * fb_close_price\n",
    "aapl_value = aapl_shares * aapl_close_price\n",
    "tsla_value = tsla_shares * tsla_close_price\n",
    "rdsa_value = rdsa_shares * rdsa_close_price\n",
    "gs_value = gs_shares * gs_close_price\n",
    "\n",
    "# Print the current value of the bond portfolio\n",
    "print(f\"The current value of your Facebook holding is ${fb_value:.2f}\")\n",
    "print(f\"The current value of your Apple holding is ${aapl_value:.2f}\")\n",
    "print(f\"The current value of your Tesla holding is ${tsla_value:.2f}\")\n",
    "print(f\"The current value of your Shell holding is ${rdsa_value:.2f}\")\n",
    "print(f\"The current value of your Goldman Sachs holding is ${gs_value:.2f}\")\n"
   ]
  },
  {
   "cell_type": "code",
   "execution_count": null,
   "metadata": {},
   "outputs": [],
   "source": [
    "# Calculate the total value of the entire portfolio\n",
    "portfolio_value =  fb_value + aapl_value + tsla_value + rdsa_value + gs_value\n",
    "\n",
    "# Print the current balance of the stock and bond portion of the portfolio\n",
    "print(f\"The current value of your total portfolio holding is ${portfolio_value:.2f}\")\n",
    "\n"
   ]
  },
  {
   "cell_type": "code",
   "execution_count": null,
   "metadata": {},
   "outputs": [],
   "source": [
    "# Set start and end dates of 10 years back from your current date\n",
    "#We'll always assume 10 years back. Again we can make this dynamic if we want\n",
    "#and start with yesterday's date and then go back 10 years.\n",
    "start_date = pd.Timestamp(\"2011-10-28\", tz=\"America/New_York\").isoformat()\n",
    "end_date = pd.Timestamp(\"2021-10-28\", tz=\"America/New_York\").isoformat()\n",
    "\n",
    "limit_rows = 1000"
   ]
  },
  {
   "cell_type": "code",
   "execution_count": null,
   "metadata": {},
   "outputs": [],
   "source": [
    "# Use the Alpaca get_barset function to make the API call to get the 3 years worth of pricing data\n",
    "# The tickers and timeframe parameters should have been set in Part 1 of this activity \n",
    "# The start and end dates should be updated with the information set above\n",
    "# Remember to add the df property to the end of the call so the response is returned as a DataFrame\n",
    "prices_df = alpaca.get_barset(\n",
    "    tickers,\n",
    "    timeframe,\n",
    "    start=start_date,\n",
    "    end=end_date,\n",
    "    limit=limit_rows\n",
    ").df\n",
    "\n",
    "# Display both the first and last five rows of the DataFrame\n",
    "display(prices_df.head(2))\n",
    "display(prices_df.tail(2))\n",
    "tickers"
   ]
  },
  {
   "cell_type": "markdown",
   "metadata": {},
   "source": [
    "###Here we run a Monte Carlo simulation of 1000 samples and the time frame could be 5, 10, or 20 years depending on the user's response. We always will assume equal 20% weight for each stock in the portfolio."
   ]
  },
  {
   "cell_type": "code",
   "execution_count": null,
   "metadata": {},
   "outputs": [],
   "source": [
    "# Configure the Monte Carlo simulation to forecast cumulative returns based on the client's input\n",
    "# The weights we will assume will be split evenly 20 percent for each ticker.\n",
    "# We will be running 1000 samples.\n",
    "#This part will only change based on if client selects 5 10 or 20 years to do the forecast.\n",
    "MC_20All = MCSimulation(\n",
    "    portfolio_data = prices_df,\n",
    "    weights = [0.2,0.2,0.2,0.2,0.2],\n",
    "    num_simulation = 1000,\n",
    "    num_trading_days = 252*10  #This number 10 will need to be made a variable based off client's input\n",
    ")\n",
    "\n",
    "# Review the simulation input data\n",
    "MC_20All.portfolio_data.head()\n"
   ]
  },
  {
   "cell_type": "code",
   "execution_count": null,
   "metadata": {},
   "outputs": [],
   "source": [
    "# Run the Monte Carlo simulation to forecast client specified number of years of cumulative returns\n",
    "MC_20All.calc_cumulative_return()\n",
    "\n",
    "#Tweaked monte carlo py file to spit out a message every 200 simulations."
   ]
  },
  {
   "cell_type": "code",
   "execution_count": null,
   "metadata": {},
   "outputs": [],
   "source": [
    "# Visualize the Monte Carlo simulation by creating an overlay line plot\n",
    "weight_20All_plot = MC_20All.plot_simulation()\n"
   ]
  },
  {
   "cell_type": "code",
   "execution_count": null,
   "metadata": {},
   "outputs": [],
   "source": [
    "# Here we visualize the probability distribution of the Monte Carlo simulation \n",
    "# based on the user's timeframe by plotting a histogram\n",
    "distribution_20All_plot = MC_20All.plot_distribution()\n"
   ]
  },
  {
   "cell_type": "markdown",
   "metadata": {},
   "source": [
    "#### Step 4: Generate the summary statistics for the Monte Carlo simulation."
   ]
  },
  {
   "cell_type": "code",
   "execution_count": null,
   "metadata": {},
   "outputs": [],
   "source": [
    "# Generate summary statistics from the Monte Carlo simulation results\n",
    "# We save the results as a variable\n",
    "weight_20All_table = MC_20All.summarize_cumulative_return()\n",
    "\n",
    "\n",
    "# Review the Client's Monte Carlo summary statistics\n",
    "print(weight_20All_table)"
   ]
  },
  {
   "cell_type": "code",
   "execution_count": null,
   "metadata": {},
   "outputs": [],
   "source": [
    "# We re-print the current balance of the total portfolio of the client\n",
    "print(f\"The current value of your total portfolio holding is ${portfolio_value:.2f}\")\n",
    "\n",
    "#Will leave this up to the group. We can just say hey this is the portfolio holding value\n",
    "#or we can also break it down by individual stock holding like we did above.\n",
    "\n",
    "print(\"______________________________________\")\n"
   ]
  },
  {
   "cell_type": "code",
   "execution_count": null,
   "metadata": {},
   "outputs": [],
   "source": [
    "# We now use the lower and upper `95%` confidence intervals to calculate the range of the possible outcomes \n",
    "#for the current client portfolio\n",
    "ci_lower_thirty_cumulative_return = round(weight_20All_table[8]*portfolio_value,2)\n",
    "ci_upper_thirty_cumulative_return = round(weight_20All_table[9]*portfolio_value,2)\n",
    "\n",
    "# Print the result of your calculations\n",
    "print(f\"There is a 95% chance that the current value of ${portfolio_value:.2f} in the portfolio with an \"\n",
    "      f\"even 20% weight in each stock over the next 10 years will end within the range of\"\n",
    "      f\" ${ci_lower_thirty_cumulative_return} and ${ci_upper_thirty_cumulative_return}.\")\n"
   ]
  }
 ],
 "metadata": {
  "kernelspec": {
   "display_name": "Python 3",
   "language": "python",
   "name": "python3"
  },
  "language_info": {
   "codemirror_mode": {
    "name": "ipython",
    "version": 3
   },
   "file_extension": ".py",
   "mimetype": "text/x-python",
   "name": "python",
   "nbconvert_exporter": "python",
   "pygments_lexer": "ipython3",
   "version": "3.7.10"
  }
 },
 "nbformat": 4,
 "nbformat_minor": 4
}
