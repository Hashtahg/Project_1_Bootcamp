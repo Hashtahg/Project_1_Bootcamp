{
 "cells": [
  {
   "cell_type": "markdown",
   "metadata": {},
   "source": [
    "### Portfolio Analysis based on your Risk Aversion level and timeframe\n",
    "We have 3 levels of Risk Aversion, with level 3 being the most aggressive\n",
    "We have 3 timeframes for which we will do our Monte Carlo forecasts: 5, 10, and 20 years."
   ]
  },
  {
   "cell_type": "code",
   "execution_count": 1,
   "metadata": {},
   "outputs": [],
   "source": [
    "# Import the required libraries and dependencies\n",
    "import os\n",
    "import requests\n",
    "import json\n",
    "import pandas as pd\n",
    "import sys\n",
    "from dotenv import load_dotenv\n",
    "import alpaca_trade_api as tradeapi\n",
    "from MCForecastTools import MCSimulation\n",
    "#chaim edit 11/3/21 \n",
    "from utils.writeToCSV import writeToCSV #importing to write results to CSV file\n",
    "from utils.get_dates import get_start_date\n",
    "from utils.get_dates import get_end_date\n",
    "\n",
    "#from utils.function_eff_front import efficient_frontier #bipasha's import for her weight optimization\n",
    "\n",
    "#from pathlib import Path\n",
    "#import csv\n",
    "%matplotlib inline"
   ]
  },
  {
   "cell_type": "code",
   "execution_count": 2,
   "metadata": {},
   "outputs": [
    {
     "data": {
      "text/plain": [
       "True"
      ]
     },
     "execution_count": 2,
     "metadata": {},
     "output_type": "execute_result"
    }
   ],
   "source": [
    "# Load the environment variables from the .env file\n",
    "#by calling the load_dotenv function\n",
    "load_dotenv()"
   ]
  },
  {
   "cell_type": "code",
   "execution_count": 3,
   "metadata": {},
   "outputs": [
    {
     "name": "stdin",
     "output_type": "stream",
     "text": [
      "To begin, please enter the amount to be invested (USD). If you would like to quit, please enter 'Quit': \n",
      " 1000\n"
     ]
    },
    {
     "name": "stdout",
     "output_type": "stream",
     "text": [
      "Unfortunately, you do not have enough savings to invest in a portfolio. \n",
      "The minimum required is $1,000,000.\n"
     ]
    },
    {
     "ename": "SystemExit",
     "evalue": "0",
     "output_type": "error",
     "traceback": [
      "An exception has occurred, use %tb to see the full traceback.\n",
      "\u001b[1;31mSystemExit\u001b[0m\u001b[1;31m:\u001b[0m 0\n"
     ]
    },
    {
     "name": "stderr",
     "output_type": "stream",
     "text": [
      "C:\\Users\\niklo\\anaconda3\\envs\\dev\\lib\\site-packages\\IPython\\core\\interactiveshell.py:3445: UserWarning: To exit: use 'exit', 'quit', or Ctrl-D.\n",
      "  warn(\"To exit: use 'exit', 'quit', or Ctrl-D.\", stacklevel=1)\n"
     ]
    }
   ],
   "source": [
    "#User inputs \n",
    "while True:\n",
    "    try:\n",
    "        portfolio_value = input(\"To begin, please enter the amount to be invested (USD). If you would like to quit, please enter 'Quit': \\n\")\n",
    "    \n",
    "        if portfolio_value == 'Quit':\n",
    "            print('You have quit the program. Have a nice day.')\n",
    "            \n",
    "            break\n",
    "        \n",
    "        portfolio_value = float(portfolio_value)\n",
    "        \n",
    "        if portfolio_value < 1000000:\n",
    "            print(\"Unfortunately, you do not have enough savings to invest in a portfolio. \\nThe minimum required is $1,000,000.\")\n",
    "            sys.exit(\"The application is now exiting.\")\n",
    "    \n",
    "        break\n",
    "    except ValueError:\n",
    "        print(\"Please only enter numerical digits.\")"
   ]
  },
  {
   "cell_type": "code",
   "execution_count": null,
   "metadata": {},
   "outputs": [],
   "source": [
    "#Get user input for risk tolerance. User must input 1, 2, or 3. If risk_tolerance is not one of these, we prompt user\n",
    "#to try again.\n",
    "risk_tolerance = input(\"Please select your risk tolerance level from 1-3, 3 being the most aggressive: \")\n",
    "#print(risk_tolerance)\n",
    "#type if statment here\n",
    "if int(risk_tolerance) == 1:\n",
    "    tickers = [\"JPM\",\"VTEB\",\"PZA\",\"BNDX\",\"GOOGL\"]\n",
    "    print(\"Thank you for your response!  You are a conversative investor.\")\n",
    "    print(f\"The stocks in your portfolio will be {tickers}\")\n",
    "    #JP Morgan, Vanguard Tax-Exempt Bond Index Fund ETF, Invesco National AMT-Free Municipal Bond ETF, Vanguard Total International Bond Index Fund\n",
    "    #Google\n",
    "elif int(risk_tolerance) == 2:\n",
    "    tickers = [\"FB\",\"AAPL\",\"TSLA\",\"RDS.A\",\"GS\"]\n",
    "    print(\"Thank you for your response!  You are an aggressive investor.\")\n",
    "    print(f\"The stocks in your portfolio will be {tickers}\")\n",
    "    #Facebook, Apple, Tesla, Shell Oil, Goldman Sachs\n",
    "elif int(risk_tolerance) == 3:\n",
    "    tickers = [\"NFLX\",\"ADBE\",\"AMZN\",\"PYPL\",\"GME\"]\n",
    "    print(\"Thank you for your response!  You are a very aggressive investor.\")\n",
    "    print(f\"The stocks in your portfolio will be {tickers}\")\n",
    "    #Netflix, Adobe, Amazon, Paypal, GameStop\n",
    "\n",
    "else:\n",
    "    print(\"I'm sorry, you need to enter 1, 2, or 3 for the application to work.\")\n",
    "#chaim edit- changed the print function to simplify output\n",
    "risk_tolerance = int(risk_tolerance) #force it to be a number since the result of input() is a string\n",
    "\n",
    "\n",
    "\n",
    "    "
   ]
  },
  {
   "cell_type": "code",
   "execution_count": null,
   "metadata": {},
   "outputs": [],
   "source": [
    "# Set the variables for the Alpaca API and secret keys. Will be making calls for historical prices.\n",
    "alpaca_api_key = os.getenv(\"ALPACA_API_KEY\")\n",
    "alpaca_secret_key = os.getenv(\"ALPACA_SECRET_KEY\")\n",
    "\n",
    "# Check the values were imported correctly by evaluating the type of each\n",
    "display(type(alpaca_api_key))\n",
    "display(type(alpaca_secret_key))\n",
    "\n",
    "# Create the Alpaca tradeapi.REST object\n",
    "alpaca = tradeapi.REST(alpaca_api_key, alpaca_secret_key, api_version=\"v2\")\n"
   ]
  },
  {
   "cell_type": "code",
   "execution_count": null,
   "metadata": {},
   "outputs": [],
   "source": [
    "# Set the tickers for both the bond and stock portion of the portfolio\n",
    "\n",
    "#This setting of tickers will also need to be made a bit more dynamic again dep on what client selects\n",
    "#We know this would be risk tolerance level 2 based on Nev's list.\n",
    "#tickers = [\"FB\",\"AAPL\",\"TSLA\",\"RDS.A\",\"GS\"] Paul Lopez moved this up on 2021-10-29 to the top depending on if client enters 1, 2, or 3 for risk tolerance\n",
    "\n",
    "# Set timeframe to 1D \n",
    "timeframe = \"1D\"\n",
    "\n",
    "# Format current date as ISO format\n",
    "# Set both the start and end date at the date of your prior business day \n",
    "# This will give you the closing price of the previous trading day\n",
    "#Made it dynamic so start and end date are always T-1 business days 20211104\n",
    "start_date = get_start_date() #pd.Timestamp(\"2021-10-27\", tz=\"America/New_York\").isoformat()\n",
    "end_date = get_start_date() #pd.Timestamp(\"2021-10-27\", tz=\"America/New_York\").isoformat()\n",
    "limit_rows = 1000\n",
    "start_date"
   ]
  },
  {
   "cell_type": "code",
   "execution_count": null,
   "metadata": {},
   "outputs": [],
   "source": [
    "# We use the Alpaca get_barset function to get current closing prices for our portfolio of 5 tickers\n",
    "prices_df = alpaca.get_barset(tickers, timeframe, start=start_date, end=end_date, limit=limit_rows).df\n",
    "\n",
    "# checking dataframe to make sure everything looks ok for our closes\n",
    "prices_df.head()\n"
   ]
  },
  {
   "cell_type": "code",
   "execution_count": null,
   "metadata": {},
   "outputs": [],
   "source": [
    "# Access the closing prices for our 5 tickers from the Alpaca DataFrame\n",
    "# We also convert the value to a floating point number\n",
    "#Again will need to be made dynamic depending on if level 1 2 or 3 risk tolerance level is selected\n",
    "stock1_close_price = float(prices_df[tickers[0]][\"close\"])\n",
    "stock2_close_price = float(prices_df[tickers[1]][\"close\"])\n",
    "stock3_close_price = float(prices_df[tickers[2]][\"close\"])\n",
    "stock4_close_price = float(prices_df[tickers[3]][\"close\"])\n",
    "stock5_close_price = float(prices_df[tickers[4]][\"close\"])\n",
    "\n",
    "display(stock1_close_price)\n",
    "display(stock2_close_price)\n",
    "display(stock3_close_price)\n",
    "display(stock4_close_price)\n",
    "display(stock5_close_price)"
   ]
  },
  {
   "cell_type": "code",
   "execution_count": null,
   "metadata": {},
   "outputs": [],
   "source": [
    "# Calculate the current value of the bond portion of the portfolio\n",
    "#Again will need to be made dynamic depending on if level 1 2 or 3 risk tolerance level is selected\n",
    "value_per_share = portfolio_value/5 \n",
    "\n",
    "#weights_eff = efficient_frontier(tickers) #[num1, num2, num3, num4, num5]\n",
    "\n",
    "#weight1 = weights[0]\n",
    "#weight2 = weights[1]\n",
    "#weight3 = weights[2]\n",
    "#weight4 = weights[3]\n",
    "#weight5 = weights[4]\n",
    "\n",
    "\n",
    "#Paul Lopez added sample code for Bipasha to use when her dynamic weights- 20211103\n",
    "#value_share1 = portfolio_value * weight1 'weight1 will be the weight as determined by Bipasha's algorithm\n",
    "#value_share2 = portfolio_value * weight2\n",
    "#value_share3 = portfolio_value * weight3\n",
    "#value_share4 = portfolio_value * weight4\n",
    "#value_share5 = portfolio_value * weight5\n",
    "\n",
    "\n",
    "stock1_shares = value_per_share / stock1_close_price\n",
    "stock2_shares = value_per_share / stock2_close_price\n",
    "stock3_shares = value_per_share / stock3_close_price\n",
    "stock4_shares = value_per_share / stock4_close_price\n",
    "stock5_shares = value_per_share / stock5_close_price\n",
    "\n",
    "# Print how many shares we get of each stock assuming 200k is available for each one.\n",
    "print(f\"With ${value_per_share:.2f} you will be able to purchase {stock1_shares:.0f} shares of {tickers[0]}.\")\n",
    "print(f\"With ${value_per_share:.2f} you will be able to purchase {stock2_shares:.0f} shares of {tickers[1]}.\")\n",
    "print(f\"With ${value_per_share:.2f} you will be able to purchase {stock3_shares:.0f} shares of {tickers[2]}.\")\n",
    "print(f\"With ${value_per_share:.2f} you will be able to purchase {stock4_shares:.0f} shares of {tickers[3]}.\")\n",
    "print(f\"With ${value_per_share:.2f} you will be able to purchase {stock5_shares:.0f} shares of {tickers[4]}.\")\n"
   ]
  },
  {
   "cell_type": "code",
   "execution_count": null,
   "metadata": {},
   "outputs": [],
   "source": [
    "# Set start and end dates of 10 years back from your current date\n",
    "#We'll always assume 10 years back. Again we can make this dynamic if we want\n",
    "#and start with yesterday's date and then go back 10 years.\n",
    "#Added dynamic start and end date 20211104 Paul Lopez\n",
    "start_date = get_end_date() #pd.Timestamp(\"2011-10-28\", tz=\"America/New_York\").isoformat()\n",
    "end_date = get_start_date() #pd.Timestamp(\"2021-10-28\", tz=\"America/New_York\").isoformat()\n",
    "\n",
    "display(start_date)\n",
    "display(end_date)\n",
    "limit_rows = 1000"
   ]
  },
  {
   "cell_type": "code",
   "execution_count": null,
   "metadata": {},
   "outputs": [],
   "source": [
    "# Use the Alpaca get_barset function to make the API call to get the 3 years worth of pricing data\n",
    "# The tickers and timeframe parameters should have been set in Part 1 of this activity \n",
    "# The start and end dates should be updated with the information set above\n",
    "# Remember to add the df property to the end of the call so the response is returned as a DataFrame\n",
    "prices_df = alpaca.get_barset(\n",
    "    tickers,\n",
    "    timeframe,\n",
    "    start=start_date,\n",
    "    end=end_date,\n",
    "    limit=limit_rows\n",
    ").df\n",
    "\n",
    "# Display both the first and last five rows of the DataFrame\n",
    "display(prices_df.head(2))\n",
    "display(prices_df.tail(2))\n",
    "tickers"
   ]
  },
  {
   "cell_type": "markdown",
   "metadata": {},
   "source": [
    "###Here we run a Monte Carlo simulation of 500 samples and the time frame could be 5, 10, or 20 years depending on the user's response. We always will assume equal 20% weight for each stock in the portfolio."
   ]
  },
  {
   "cell_type": "code",
   "execution_count": null,
   "metadata": {},
   "outputs": [],
   "source": [
    "# Configure the Monte Carlo simulation to forecast cumulative returns based on the client's input.\n",
    "\n",
    "#Changed 2021-11-02. We will run 3 scenarios of 5yr, 10yr, and 20yr.\n",
    "# The weights we will assume will be split evenly 20 percent for each ticker.\n",
    "# We will be running 1000 samples.\n",
    "MC_even_weight_5yr = MCSimulation(\n",
    "    portfolio_data = prices_df,\n",
    "    weights = [0.2,0.2,0.2,0.2,0.2],  #weights = weights_eff\n",
    "    num_simulation = 500,\n",
    "    #num_trading_days = 252*time_horizon  #This variable is 5, 10, or 20 depending on client's input above\n",
    "    num_trading_days = 252*5 #added 2021-11-02 by Paul Lopez. We'll be running 5yr, 10yr, and 20yr MC. So hardcoded the * 5 now\n",
    ")\n",
    "\n",
    "# Review the simulation input data\n",
    "MC_even_weight_5yr.portfolio_data.head()\n"
   ]
  },
  {
   "cell_type": "code",
   "execution_count": null,
   "metadata": {},
   "outputs": [],
   "source": [
    "MC_even_weight_10yr = MCSimulation(\n",
    "    portfolio_data = prices_df,\n",
    "    weights = [0.2,0.2,0.2,0.2,0.2], #weights = weights_eff\n",
    "    num_simulation = 500,\n",
    "    #num_trading_days = 252*time_horizon  #This variable is 5, 10, or 20 depending on client's input above\n",
    "    num_trading_days = 252*10 #added 2021-11-02 by Paul Lopez. We'll be running 5yr, 10yr, and 20yr MC. So hardcoded the * 10 now\n",
    ")\n",
    "\n",
    "MC_even_weight_10yr.portfolio_data.head()"
   ]
  },
  {
   "cell_type": "code",
   "execution_count": null,
   "metadata": {},
   "outputs": [],
   "source": [
    "MC_even_weight_20yr = MCSimulation(\n",
    "    portfolio_data = prices_df,\n",
    "    weights = [0.2,0.2,0.2,0.2,0.2], ##weights = weights_eff\n",
    "    num_simulation = 500,\n",
    "    #num_trading_days = 252*time_horizon  #This variable is 5, 10, or 20 depending on client's input above\n",
    "    num_trading_days = 252*20 #added 2021-11-02 by Paul Lopez. We'll be running 5yr, 10yr, and 20yr MC. So hardcoded the * 20 now\n",
    ")\n",
    "MC_even_weight_20yr.portfolio_data.head()"
   ]
  },
  {
   "cell_type": "code",
   "execution_count": null,
   "metadata": {},
   "outputs": [],
   "source": [
    "# Run the Monte Carlo simulation to forecast client specified number of years of cumulative returns\n",
    "#Changed on 2021-11-02 by Paul Lopez. Will now be running 5yr, 10yr, and 20yr MC scenarios.\n",
    "MC_even_weight_5yr.calc_cumulative_return()\n",
    "\n",
    "#Tweaked monte carlo py file to spit out a message every 200 simulations."
   ]
  },
  {
   "cell_type": "code",
   "execution_count": null,
   "metadata": {},
   "outputs": [],
   "source": [
    "MC_even_weight_10yr.calc_cumulative_return()"
   ]
  },
  {
   "cell_type": "code",
   "execution_count": null,
   "metadata": {},
   "outputs": [],
   "source": [
    "MC_even_weight_20yr.calc_cumulative_return()"
   ]
  },
  {
   "cell_type": "code",
   "execution_count": null,
   "metadata": {},
   "outputs": [],
   "source": [
    "# Visualize the Monte Carlo simulation by creating an overlay line plot for the 5yr scenario\n",
    "MC_even_weight_line_5yr_plot = MC_even_weight_5yr.plot_simulation()\n"
   ]
  },
  {
   "cell_type": "code",
   "execution_count": null,
   "metadata": {},
   "outputs": [],
   "source": [
    "# Visualize the Monte Carlo simulation by creating an overlay line plot for the 10yr scenario\n",
    "\n",
    "MC_even_weight_line_10yr_plot = MC_even_weight_10yr.plot_simulation()"
   ]
  },
  {
   "cell_type": "code",
   "execution_count": null,
   "metadata": {},
   "outputs": [],
   "source": [
    "# Visualize the Monte Carlo simulation by creating an overlay line plot for the 20yr scenario\n",
    "\n",
    "MC_even_weight_line_20yr_plot = MC_even_weight_20yr.plot_simulation()"
   ]
  },
  {
   "cell_type": "code",
   "execution_count": null,
   "metadata": {},
   "outputs": [],
   "source": [
    "# Here we visualize the probability distribution of the Monte Carlo simulation \n",
    "# based on the user's timeframe by plotting a histogram\n",
    "#Changed on 2021-11-02 by Paul Lopez. We are now plotting for all 3 time horizons of 5yr, 10yr, and 20yr.\n",
    "MC_even_weight_5yr_distibution_plot = MC_even_weight_5yr.plot_distribution()\n"
   ]
  },
  {
   "cell_type": "code",
   "execution_count": null,
   "metadata": {},
   "outputs": [],
   "source": [
    "MC_even_weight_10yr_distibution_plot = MC_even_weight_10yr.plot_distribution()\n"
   ]
  },
  {
   "cell_type": "code",
   "execution_count": null,
   "metadata": {},
   "outputs": [],
   "source": [
    "MC_even_weight_20yr_distibution_plot = MC_even_weight_20yr.plot_distribution()\n"
   ]
  },
  {
   "cell_type": "markdown",
   "metadata": {},
   "source": [
    "#### Step 4: Generate the summary statistics for the Monte Carlo simulation."
   ]
  },
  {
   "cell_type": "code",
   "execution_count": null,
   "metadata": {},
   "outputs": [],
   "source": [
    "# Generate summary statistics from the Monte Carlo simulation 5yr results\n",
    "# We save the results as a variable\n",
    "MC_even_weight_5yr_summary_table = MC_even_weight_5yr.summarize_cumulative_return()\n",
    "\n",
    "\n",
    "# Review the Client's Monte Carlo summary statistics\n",
    "print(MC_even_weight_5yr_summary_table)"
   ]
  },
  {
   "cell_type": "code",
   "execution_count": null,
   "metadata": {},
   "outputs": [],
   "source": [
    "# Generate summary statistics from the Monte Carlo simulation 10yr results\n",
    "# We save the results as a variable\n",
    "MC_even_weight_10yr_summary_table = MC_even_weight_10yr.summarize_cumulative_return()\n",
    "\n",
    "\n",
    "# Review the Client's Monte Carlo summary statistics\n",
    "print(MC_even_weight_10yr_summary_table)"
   ]
  },
  {
   "cell_type": "code",
   "execution_count": null,
   "metadata": {},
   "outputs": [],
   "source": [
    "# Generate summary statistics from the Monte Carlo simulation 20yr results\n",
    "# We save the results as a variable\n",
    "MC_even_weight_20yr_summary_table = MC_even_weight_20yr.summarize_cumulative_return()\n",
    "\n",
    "\n",
    "# Review the Client's Monte Carlo summary statistics\n",
    "print(MC_even_weight_20yr_summary_table)"
   ]
  },
  {
   "cell_type": "code",
   "execution_count": null,
   "metadata": {},
   "outputs": [],
   "source": [
    "# We now use the lower and upper `95%` confidence intervals to calculate the range of the possible outcomes \n",
    "#for the current client portfolio\n",
    "ci_lower_thirty_cumulative_return_5yr = round(MC_even_weight_5yr_summary_table[8]*portfolio_value,2)\n",
    "ci_upper_thirty_cumulative_return_5yr = round(MC_even_weight_5yr_summary_table[9]*portfolio_value,2)\n",
    "\n",
    "# Print the result of your calculations\n",
    "print(f\"There is a 95% chance that the current value of ${portfolio_value:.2f} in the portfolio with an \"\n",
    "      f\"even 20% weight in each stock over the next 5 years will end within the range of\"\n",
    "      f\" ${ci_lower_thirty_cumulative_return_5yr} and ${ci_upper_thirty_cumulative_return_5yr}.\")\n"
   ]
  },
  {
   "cell_type": "code",
   "execution_count": null,
   "metadata": {},
   "outputs": [],
   "source": [
    "# We now use the lower and upper `95%` confidence intervals to calculate the range of the possible outcomes \n",
    "#for the current client portfolio\n",
    "ci_lower_thirty_cumulative_return_10yr = round(MC_even_weight_10yr_summary_table[8]*portfolio_value,2)\n",
    "ci_upper_thirty_cumulative_return_10yr = round(MC_even_weight_10yr_summary_table[9]*portfolio_value,2)\n",
    "\n",
    "# Print the result of your calculations\n",
    "print(f\"There is a 95% chance that the current value of ${portfolio_value:.2f} in the portfolio with an \"\n",
    "      f\"even 20% weight in each stock over the next 10 years will end within the range of\"\n",
    "      f\" ${ci_lower_thirty_cumulative_return_10yr} and ${ci_upper_thirty_cumulative_return_10yr}.\")\n"
   ]
  },
  {
   "cell_type": "code",
   "execution_count": null,
   "metadata": {},
   "outputs": [],
   "source": [
    "# We now use the lower and upper `95%` confidence intervals to calculate the range of the possible outcomes \n",
    "#for the current client portfolio\n",
    "ci_lower_thirty_cumulative_return_20yr = round(MC_even_weight_20yr_summary_table[8]*portfolio_value,2)\n",
    "ci_upper_thirty_cumulative_return_20yr = round(MC_even_weight_20yr_summary_table[9]*portfolio_value,2)\n",
    "\n",
    "# Print the result of your calculations\n",
    "print(f\"There is a 95% chance that the current value of ${portfolio_value:.2f} in the portfolio with an \"\n",
    "      f\"even 20% weight in each stock over the next 20 years will end within the range of\"\n",
    "      f\" ${ci_lower_thirty_cumulative_return_20yr} and ${ci_upper_thirty_cumulative_return_20yr}.\")\n"
   ]
  },
  {
   "cell_type": "code",
   "execution_count": null,
   "metadata": {},
   "outputs": [],
   "source": [
    "#created dictionary to store values for csv file\n",
    "#client_info_dict = {\n",
    "    #\"Value of Portfolio\" : [f\"${portfolio_value:.2f}\",\"-\",\"-\",\"-\",\"-\"],\n",
    "    #\"Value Per Share\" : [f\"${value_per_share:.2f}\", f\"${value_per_share:.2f}\", f\"${value_per_share:.2f}\",\n",
    "     #                    f\"${value_per_share:.2f}\", f\"${value_per_share:.2f}\"],\n",
    "    #\"Portfolio Tickers\" : [tickers[0], tickers[1], tickers[2], tickers[3], tickers[4]],\n",
    "    #\"Shares per Ticker\" : [f\"{stock1_shares:.0f}\", f\"{stock2_shares:.0f}\",f\"{stock3_shares:.0f}\", f\"{stock4_shares:.0f}\", f\"{stock5_shares:.0f}\"]    }  \n",
    "#print(client_info_dict)"
   ]
  },
  {
   "cell_type": "code",
   "execution_count": null,
   "metadata": {},
   "outputs": [],
   "source": [
    "#created dataframe from dictionary\n",
    "#client_info_df = pd.DataFrame(client_info_dict)\n",
    "#client_info_df.set_index(\"Value of Portfolio\")"
   ]
  },
  {
   "cell_type": "code",
   "execution_count": null,
   "metadata": {},
   "outputs": [],
   "source": [
    "#created csv with dataframe\n",
    "#client_info_df.to_csv(\"Client Info.csv\", index=False) #moved to util folder function 20211103 Paul Lopez"
   ]
  },
  {
   "cell_type": "code",
   "execution_count": null,
   "metadata": {},
   "outputs": [],
   "source": [
    "#created dictionary to turn into a csv file\n",
    "#report_details_dict = {\n",
    " #   \"Holding Period\" : [\"5year\", \"10year\", \"20year\"],\n",
    "  #  \"Lower Bound Values\" : [f\"${ci_lower_thirty_cumulative_return_5yr}\",f\"${ci_lower_thirty_cumulative_return_10yr}\",\n",
    "   #                f\"${ci_lower_thirty_cumulative_return_20yr}\"],\n",
    "    #\"Upper Bound Values\" : [f\"${ci_upper_thirty_cumulative_return_5yr}\",f\"${ci_upper_thirty_cumulative_return_10yr}\",\n",
    "     #              F\"${ci_upper_thirty_cumulative_return_20yr}\"]}\n",
    "                 "
   ]
  },
  {
   "cell_type": "code",
   "execution_count": null,
   "metadata": {},
   "outputs": [],
   "source": [
    "#created dataframe with dictionary\n",
    "#report_details_df = pd.DataFrame(report_details_dict)\n",
    "#report_details_df.set_index(\"Holding Period\")"
   ]
  },
  {
   "cell_type": "code",
   "execution_count": null,
   "metadata": {},
   "outputs": [],
   "source": [
    "# created csv file with dataframe\n",
    "#report_details_df.to_csv(\"Report Details.csv\", index=False) #moved to util folder function 20211103 Paul Lopez"
   ]
  },
  {
   "cell_type": "code",
   "execution_count": null,
   "metadata": {},
   "outputs": [],
   "source": [
    "#joining the dataframes together for the final report.\n",
    "#joined_dataframes = pd.concat([client_info_df, report_details_df], axis=1)\n",
    "#reviewing the joined dataframes to check for NAN's.\n",
    "#joined_dataframes"
   ]
  },
  {
   "cell_type": "code",
   "execution_count": null,
   "metadata": {},
   "outputs": [],
   "source": [
    "#replacing NAN's with \"-\" to make the dataframe more user friendly.\n",
    "#joined_dataframes = joined_dataframes.fillna(\"-\")\n",
    "#reviewing joined dataframes to check if the NAN's were replaced.\n",
    "#joined_dataframes"
   ]
  },
  {
   "cell_type": "code",
   "execution_count": null,
   "metadata": {},
   "outputs": [],
   "source": [
    "#created dictionary for final report. updated by chaim 20211104\n",
    "final_report_dict = {\n",
    "    \"Value of Portfolio\" : [f\"${portfolio_value:.2f}\",\"-\",\"-\",\"-\",\"-\", \"Holding Period\", \"5Year\", \"10Year\", \"20Year\"],\n",
    "    \"Value Per Share\" : [f\"${value_per_share:.2f}\", f\"${value_per_share:.2f}\", f\"${value_per_share:.2f}\",\n",
    "                         f\"${value_per_share:.2f}\", f\"${value_per_share:.2f}\", \"Lower Bound Values\",  \n",
    "                         f\"${ci_lower_thirty_cumulative_return_5yr}\",f\"${ci_lower_thirty_cumulative_return_10yr}\",\n",
    "                         f\"${ci_lower_thirty_cumulative_return_20yr}\"], \n",
    "    \"Portfolio Tickers\" : [tickers[0], tickers[1], tickers[2], tickers[3], tickers[4], \"Upper Bound Values\", \n",
    "                           f\"${ci_upper_thirty_cumulative_return_5yr}\",\n",
    "                           f\"${ci_upper_thirty_cumulative_return_10yr}\",\n",
    "                           f\"${ci_upper_thirty_cumulative_return_20yr}\"],\n",
    "    \"Shares per Ticker\" : [f\"{stock1_shares:.0f}\", f\"{stock2_shares:.0f}\",f\"{stock3_shares:.0f}\",\n",
    "                           f\"{stock4_shares:.0f}\", f\"{stock5_shares:.0f}\",\"-\",\"-\",\"-\",\"-\"]}\n",
    "                           "
   ]
  },
  {
   "cell_type": "code",
   "execution_count": null,
   "metadata": {},
   "outputs": [],
   "source": [
    "#created a dataframe from the dictionary.\n",
    "final_report_df = pd.DataFrame(final_report_dict)\n",
    "final_report_df"
   ]
  },
  {
   "cell_type": "code",
   "execution_count": null,
   "metadata": {},
   "outputs": [],
   "source": [
    "#wrote the dataframe to a csv file to present for final report.\n",
    "#writeToCSV(\"Client_Info.csv\", \"Report_Details.csv\",client_info_df, report_details_df)\n",
    "writeToCSV(\"FinalReport.csv\", final_report_df) #updated by Chaim 20211104"
   ]
  },
  {
   "cell_type": "code",
   "execution_count": null,
   "metadata": {},
   "outputs": [],
   "source": []
  }
 ],
 "metadata": {
  "kernelspec": {
   "display_name": "Python 3",
   "language": "python",
   "name": "python3"
  },
  "language_info": {
   "codemirror_mode": {
    "name": "ipython",
    "version": 3
   },
   "file_extension": ".py",
   "mimetype": "text/x-python",
   "name": "python",
   "nbconvert_exporter": "python",
   "pygments_lexer": "ipython3",
   "version": "3.7.10"
  }
 },
 "nbformat": 4,
 "nbformat_minor": 4
}
