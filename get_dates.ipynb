{
 "cells": [
  {
   "cell_type": "code",
   "execution_count": null,
   "id": "2cd0c322-90f5-4965-85f7-0303918471ca",
   "metadata": {},
   "outputs": [],
   "source": []
  },
  {
   "cell_type": "code",
   "execution_count": 31,
   "id": "7f482c3d-babd-4d64-8c51-c960806c2220",
   "metadata": {
    "tags": []
   },
   "outputs": [],
   "source": [
    "#prior = today + relativedelta(years=-5)"
   ]
  },
  {
   "cell_type": "code",
   "execution_count": 32,
   "id": "fce2c7b5-6e9e-4360-9b49-cabdb0873ecf",
   "metadata": {},
   "outputs": [],
   "source": [
    "#start_date = pd.Timestamp(today, tz = 'America/New_York').isoformat()"
   ]
  },
  {
   "cell_type": "code",
   "execution_count": null,
   "id": "75683651-54ce-4cd8-b4c7-06d1843deaa3",
   "metadata": {},
   "outputs": [],
   "source": []
  },
  {
   "cell_type": "code",
   "execution_count": 33,
   "id": "da72b56c-6310-4608-ae3e-baa5a1b241df",
   "metadata": {},
   "outputs": [],
   "source": [
    "#end_date = pd.Timestamp(prior, tz = 'America/New_York').isoformat()\n",
    "#display(end_date)"
   ]
  },
  {
   "cell_type": "code",
   "execution_count": 34,
   "id": "ca142bdf-844d-4a9d-b59e-77f0395ee02f",
   "metadata": {},
   "outputs": [],
   "source": [
    "def get_start_date():\n",
    "    today = date.today()\n",
    "    \n",
    "    start_date = pd.Timestamp(today, tz = 'America/New_York').isoformat()\n",
    "    \n",
    "    return start_date"
   ]
  },
  {
   "cell_type": "code",
   "execution_count": 35,
   "id": "73a28c55-96f5-44e3-9080-efb8bff91250",
   "metadata": {},
   "outputs": [],
   "source": [
    "def get_end_date():\n",
    "    today = date.today()\n",
    "    \n",
    "    prior = today + relativedelta(years=-5)\n",
    "    \n",
    "    end_date = pd.Timestamp(prior, tz = 'America/New_York').isoformat()\n",
    "    \n",
    "    return end_date"
   ]
  },
  {
   "cell_type": "code",
   "execution_count": 36,
   "id": "9d9a7c9b-30e9-4479-affd-52da502b8748",
   "metadata": {},
   "outputs": [
    {
     "data": {
      "text/plain": [
       "'2021-11-02T00:00:00-04:00'"
      ]
     },
     "execution_count": 36,
     "metadata": {},
     "output_type": "execute_result"
    }
   ],
   "source": [
    "get_start_date()"
   ]
  },
  {
   "cell_type": "code",
   "execution_count": 37,
   "id": "35213c84-2011-4ee4-86c1-2808177ea7ca",
   "metadata": {},
   "outputs": [
    {
     "data": {
      "text/plain": [
       "'2016-11-02T00:00:00-04:00'"
      ]
     },
     "execution_count": 37,
     "metadata": {},
     "output_type": "execute_result"
    }
   ],
   "source": [
    "get_end_date()"
   ]
  },
  {
   "cell_type": "code",
   "execution_count": null,
   "id": "df96a8cf-83b1-402e-942b-84aa292bb6a7",
   "metadata": {},
   "outputs": [],
   "source": []
  }
 ],
 "metadata": {
  "kernelspec": {
   "display_name": "Python 3",
   "language": "python",
   "name": "python3"
  },
  "language_info": {
   "codemirror_mode": {
    "name": "ipython",
    "version": 3
   },
   "file_extension": ".py",
   "mimetype": "text/x-python",
   "name": "python",
   "nbconvert_exporter": "python",
   "pygments_lexer": "ipython3",
   "version": "3.7.6"
  }
 },
 "nbformat": 4,
 "nbformat_minor": 5
}
